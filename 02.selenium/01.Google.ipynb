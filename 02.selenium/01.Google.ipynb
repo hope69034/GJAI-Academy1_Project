{
 "cells": [
  {
   "cell_type": "markdown",
   "metadata": {},
   "source": [
    "구글 크롤링 크롬드라이버검색"
   ]
  },
  {
   "cell_type": "code",
   "execution_count": 7,
   "metadata": {},
   "outputs": [],
   "source": [
    "import requests \n",
    "from bs4 import BeautifulSoup"
   ]
  },
  {
   "cell_type": "code",
   "execution_count": 8,
   "metadata": {},
   "outputs": [],
   "source": [
    "# 동적인 데이터를 입력하고 결과를 얻어내기 힘들다\n",
    "url = 'https://www.google.co.kr/'\n",
    "res = requests.get(url)\n",
    "soup = BeautifulSoup(res.text, 'html.parser')"
   ]
  },
  {
   "cell_type": "code",
   "execution_count": null,
   "metadata": {},
   "outputs": [],
   "source": []
  },
  {
   "cell_type": "markdown",
   "metadata": {},
   "source": [
    "셀레니움을 활용하여"
   ]
  },
  {
   "cell_type": "code",
   "execution_count": 9,
   "metadata": {},
   "outputs": [],
   "source": [
    "import time\n",
    "from typing import KeysView\n",
    "from selenium import webdriver\n",
    "from selenium.webdriver.common.keys import Keys"
   ]
  },
  {
   "cell_type": "code",
   "execution_count": 10,
   "metadata": {},
   "outputs": [],
   "source": [
    " #구글창을 키는 코드 (크롬드라이브exe파일을이용한다)\n",
    "url = 'https://www.google.co.kr/'\n",
    "driver = webdriver.Chrome('chromedriver.exe')\n",
    "driver.get(url)"
   ]
  },
  {
   "cell_type": "code",
   "execution_count": 11,
   "metadata": {},
   "outputs": [],
   "source": [
    "search_box = driver.find_element_by_name('q') #위에랑 이어서 실행하면  구글창 검색창에 크롬드라이버입력 후 엔터\n",
    "search_box.send_keys('ChromeDriver')\n",
    "search_box.send_keys(Keys.ENTER)\n",
    "time.sleep(2)"
   ]
  },
  {
   "cell_type": "code",
   "execution_count": 12,
   "metadata": {},
   "outputs": [
    {
     "data": {
      "text/plain": [
       "9"
      ]
     },
     "execution_count": 12,
     "metadata": {},
     "output_type": "execute_result"
    }
   ],
   "source": [
    "divs = driver.find_elements_by_css_selector('#search .g') # 아이디search에 클래스가g인놈을 찾기 # 아이디앞 샵  클래스앞 점\n",
    "len(divs)"
   ]
  },
  {
   "cell_type": "code",
   "execution_count": 13,
   "metadata": {},
   "outputs": [
    {
     "data": {
      "text/plain": [
       "'ChromeDriver - WebDriver for Chrome - Downloads'"
      ]
     },
     "execution_count": 13,
     "metadata": {},
     "output_type": "execute_result"
    }
   ],
   "source": [
    "# 타이틀/ 글링크제목\n",
    "div = divs[0]\n",
    "title = div.find_element_by_css_selector('.LC20lb.MBeuO.DKV0Md').text\n",
    "title \n",
    "# 제목이 나왔다."
   ]
  },
  {
   "cell_type": "code",
   "execution_count": 14,
   "metadata": {},
   "outputs": [
    {
     "data": {
      "text/plain": [
       "'Current Releases · ChromeDriver 105.0.5195.19 · Supports Chrome version 10 · For more details, please see the · ChromeDriver 104.0.5112.79 · Supports Chrome version ...'"
      ]
     },
     "execution_count": 14,
     "metadata": {},
     "output_type": "execute_result"
    }
   ],
   "source": [
    "# 컨텐트 글제목아래 미리보기\n",
    "content = div.find_element_by_css_selector('.VwiC3b.yXK7lf.MUxGbd.yDYNvb.lyLwlc.lEBKkf').text\n",
    "content \n",
    "# 미리보기가 나왔다"
   ]
  },
  {
   "cell_type": "code",
   "execution_count": 15,
   "metadata": {},
   "outputs": [
    {
     "data": {
      "text/plain": [
       "[['ChromeDriver - WebDriver for Chrome - Downloads',\n",
       "  'Current Releases · ChromeDriver 105.0.5195.19 · Supports Chrome version 10 · For more details, please see the · ChromeDriver 104.0.5112.79 · Supports Chrome version ...'],\n",
       " ['[Python] Selenium 사용법, ChromeDriver 설치 방법',\n",
       "  '2020. 2. 22. — 하단에 Install Package 버튼을 눌러줍니다! ChromeDriver 설치방법. 일단 Chrome이 있어야 되겠죠? Chrome을 설치해줍니다! Chrome Version 확인.'],\n",
       " ['Chromedriver 다운로드 및 설치하는 법 - 코딩으로 자아실현',\n",
       "  '2021. 9. 25. — 여기서는 Chrome의 Webdriver인 Chromedriver를 다운 받는 법을 알아봅니다. 크롬드라이버를 실행하면 위와 같이 소프트웨어에 의해 제어되고 있다는 ...'],\n",
       " ['selenium) 설치하기! chromedriver 버전 오류 해결하기',\n",
       "  '2019. 5. 17. — 여기에서 현재 사용중인 크롬의 버전과 일치하는 버전의 파일을 다운 받으시면 됩니다. 저 같은 경우는 버전 74에 해당하니 ChromeDriver ...'],\n",
       " ['How to run Selenium tests on Chrome using ChromeDriver',\n",
       "  '2021. 5. 9. — Step 1: First download the ChromeDriver. · Step 2: Once the zip file is downloaded for the operating system, unzip it to retrieve the ...'],\n",
       " ['ChromeDriver · SeleniumHQ/selenium Wiki - GitHub',\n",
       "  '2021. 12. 26. — A browser automation framework and ecosystem. Contribute to SeleniumHQ/selenium development by creating an account on GitHub.'],\n",
       " ['chromedriver - npm',\n",
       "  '5일 전 — ChromeDriver for Selenium. Latest version: 104.0.0, last published: 5 days ago. Start using chromedriver in your project by running `npm i ...'],\n",
       " ['Selenium으로 무적 크롤러 만들기',\n",
       "  '2017. 2. 27. — from selenium import webdriver ## Chrome의 경우 | 아까 받은 chromedriver의 위치를 지정해준다. driver = webdriver.'],\n",
       " ['Install browser drivers - Selenium',\n",
       "  'ChromeDriver driver = new ChromeDriver(); ... Please see https://chromedriver.chromium.org/security-considerations for suggestions on keeping  ...']]"
      ]
     },
     "execution_count": 15,
     "metadata": {},
     "output_type": "execute_result"
    }
   ],
   "source": [
    "# 각글의제목과 미리보기 출력  , 1페이지 에 나오는 9개까지만 출력이 되었다.\n",
    "lines = []\n",
    "for div in divs:\n",
    "    title = div.find_element_by_css_selector('.LC20lb.MBeuO.DKV0Md').text\n",
    "    content = div.find_element_by_css_selector('.VwiC3b.yXK7lf.MUxGbd.yDYNvb.lyLwlc.lEBKkf').text\n",
    "    lines.append([title, content])\n",
    "lines"
   ]
  },
  {
   "cell_type": "code",
   "execution_count": 16,
   "metadata": {},
   "outputs": [
    {
     "data": {
      "text/html": [
       "<div>\n",
       "<style scoped>\n",
       "    .dataframe tbody tr th:only-of-type {\n",
       "        vertical-align: middle;\n",
       "    }\n",
       "\n",
       "    .dataframe tbody tr th {\n",
       "        vertical-align: top;\n",
       "    }\n",
       "\n",
       "    .dataframe thead th {\n",
       "        text-align: right;\n",
       "    }\n",
       "</style>\n",
       "<table border=\"1\" class=\"dataframe\">\n",
       "  <thead>\n",
       "    <tr style=\"text-align: right;\">\n",
       "      <th></th>\n",
       "      <th>title</th>\n",
       "      <th>content</th>\n",
       "    </tr>\n",
       "  </thead>\n",
       "  <tbody>\n",
       "    <tr>\n",
       "      <th>0</th>\n",
       "      <td>ChromeDriver - WebDriver for Chrome - Downloads</td>\n",
       "      <td>Current Releases · ChromeDriver 105.0.5195.19 ...</td>\n",
       "    </tr>\n",
       "    <tr>\n",
       "      <th>1</th>\n",
       "      <td>[Python] Selenium 사용법, ChromeDriver 설치 방법</td>\n",
       "      <td>2020. 2. 22. — 하단에 Install Package 버튼을 눌러줍니다! ...</td>\n",
       "    </tr>\n",
       "    <tr>\n",
       "      <th>2</th>\n",
       "      <td>Chromedriver 다운로드 및 설치하는 법 - 코딩으로 자아실현</td>\n",
       "      <td>2021. 9. 25. — 여기서는 Chrome의 Webdriver인 Chromed...</td>\n",
       "    </tr>\n",
       "    <tr>\n",
       "      <th>3</th>\n",
       "      <td>selenium) 설치하기! chromedriver 버전 오류 해결하기</td>\n",
       "      <td>2019. 5. 17. — 여기에서 현재 사용중인 크롬의 버전과 일치하는 버전의 파...</td>\n",
       "    </tr>\n",
       "    <tr>\n",
       "      <th>4</th>\n",
       "      <td>How to run Selenium tests on Chrome using Chro...</td>\n",
       "      <td>2021. 5. 9. — Step 1: First download the Chrom...</td>\n",
       "    </tr>\n",
       "    <tr>\n",
       "      <th>5</th>\n",
       "      <td>ChromeDriver · SeleniumHQ/selenium Wiki - GitHub</td>\n",
       "      <td>2021. 12. 26. — A browser automation framework...</td>\n",
       "    </tr>\n",
       "    <tr>\n",
       "      <th>6</th>\n",
       "      <td>chromedriver - npm</td>\n",
       "      <td>5일 전 — ChromeDriver for Selenium. Latest versi...</td>\n",
       "    </tr>\n",
       "    <tr>\n",
       "      <th>7</th>\n",
       "      <td>Selenium으로 무적 크롤러 만들기</td>\n",
       "      <td>2017. 2. 27. — from selenium import webdriver ...</td>\n",
       "    </tr>\n",
       "    <tr>\n",
       "      <th>8</th>\n",
       "      <td>Install browser drivers - Selenium</td>\n",
       "      <td>ChromeDriver driver = new ChromeDriver(); ... ...</td>\n",
       "    </tr>\n",
       "  </tbody>\n",
       "</table>\n",
       "</div>"
      ],
      "text/plain": [
       "                                               title  \\\n",
       "0    ChromeDriver - WebDriver for Chrome - Downloads   \n",
       "1          [Python] Selenium 사용법, ChromeDriver 설치 방법   \n",
       "2             Chromedriver 다운로드 및 설치하는 법 - 코딩으로 자아실현   \n",
       "3            selenium) 설치하기! chromedriver 버전 오류 해결하기   \n",
       "4  How to run Selenium tests on Chrome using Chro...   \n",
       "5   ChromeDriver · SeleniumHQ/selenium Wiki - GitHub   \n",
       "6                                 chromedriver - npm   \n",
       "7                              Selenium으로 무적 크롤러 만들기   \n",
       "8                 Install browser drivers - Selenium   \n",
       "\n",
       "                                             content  \n",
       "0  Current Releases · ChromeDriver 105.0.5195.19 ...  \n",
       "1  2020. 2. 22. — 하단에 Install Package 버튼을 눌러줍니다! ...  \n",
       "2  2021. 9. 25. — 여기서는 Chrome의 Webdriver인 Chromed...  \n",
       "3  2019. 5. 17. — 여기에서 현재 사용중인 크롬의 버전과 일치하는 버전의 파...  \n",
       "4  2021. 5. 9. — Step 1: First download the Chrom...  \n",
       "5  2021. 12. 26. — A browser automation framework...  \n",
       "6  5일 전 — ChromeDriver for Selenium. Latest versi...  \n",
       "7  2017. 2. 27. — from selenium import webdriver ...  \n",
       "8  ChromeDriver driver = new ChromeDriver(); ... ...  "
      ]
     },
     "execution_count": 16,
     "metadata": {},
     "output_type": "execute_result"
    }
   ],
   "source": [
    "import pandas as pd\n",
    "df = pd.DataFrame(lines, columns=['title', 'content'])\n",
    "df"
   ]
  },
  {
   "cell_type": "code",
   "execution_count": 17,
   "metadata": {},
   "outputs": [],
   "source": [
    "# 창 닫기\n",
    "driver.close()"
   ]
  },
  {
   "cell_type": "code",
   "execution_count": null,
   "metadata": {},
   "outputs": [],
   "source": []
  }
 ],
 "metadata": {
  "kernelspec": {
   "display_name": "Python 3.9.12 ('base')",
   "language": "python",
   "name": "python3"
  },
  "language_info": {
   "codemirror_mode": {
    "name": "ipython",
    "version": 3
   },
   "file_extension": ".py",
   "mimetype": "text/x-python",
   "name": "python",
   "nbconvert_exporter": "python",
   "pygments_lexer": "ipython3",
   "version": "3.9.12"
  },
  "orig_nbformat": 4,
  "vscode": {
   "interpreter": {
    "hash": "057922324f466f00da6e0a368f8d8d7372118bb69e117597664cfccd70c182b3"
   }
  }
 },
 "nbformat": 4,
 "nbformat_minor": 2
}
