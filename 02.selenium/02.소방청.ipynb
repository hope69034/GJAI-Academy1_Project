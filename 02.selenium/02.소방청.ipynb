{
 "cells": [
  {
   "cell_type": "markdown",
   "metadata": {},
   "source": [
    "# 소방청 광주지역 검색"
   ]
  },
  {
   "cell_type": "code",
   "execution_count": 140,
   "metadata": {},
   "outputs": [],
   "source": [
    "import time\n",
    "from typing import KeysView\n",
    "from selenium import webdriver\n",
    "from selenium.webdriver.common.keys import Keys\n",
    "from selenium.webdriver.common.by import By\n",
    "import pandas as pd\n",
    "from bs4 import BeautifulSoup"
   ]
  },
  {
   "cell_type": "code",
   "execution_count": 141,
   "metadata": {},
   "outputs": [],
   "source": [
    "import warnings\n",
    "warnings.filterwarnings('ignore')"
   ]
  },
  {
   "cell_type": "code",
   "execution_count": 142,
   "metadata": {},
   "outputs": [],
   "source": [
    "driver = webdriver.Chrome() # 여기서 괄호에는 chromedriver.exe 를 생략했다\n",
    "#구글창을 키는 코드 (크롬드라이브exe파일을이용한다)\n",
    "# url = 'https://www.google.co.kr/'\n",
    "# driver = webdriver.Chrome('chromedriver.exe')\n",
    "# driver.get(url)\n",
    "# 동적인 데이터를 입력하고 결과를 얻어내기 힘들다\n",
    "url = 'https://www.nfa.go.kr/nfa/introduce/status/firestationidfo/?searchDistance=10&searchMode=distance&myX=35.1493479&myY=126.9218479&searchKeyword='\n",
    "driver.get(url)"
   ]
  },
  {
   "cell_type": "code",
   "execution_count": 143,
   "metadata": {},
   "outputs": [],
   "source": [
    "#입력창에 광주를 입력 후 검색 버튼 엔터\n",
    "driver.find_element(By.ID, 'searchKeyword').send_keys('광주광역시')\n",
    "driver.find_element(By.ID, 'fsSearchBtn').click()"
   ]
  },
  {
   "cell_type": "code",
   "execution_count": 144,
   "metadata": {},
   "outputs": [
    {
     "data": {
      "text/plain": [
       "10"
      ]
     },
     "execution_count": 144,
     "metadata": {},
     "output_type": "execute_result"
    }
   ],
   "source": [
    "# 검색 이동 후 뷰티풀습 이용하여 정보 획득\n",
    "soup = BeautifulSoup(driver.page_source, 'html.parser')\n",
    "lis = soup.select('.stations-list > li')\n",
    "len(lis)\n",
    "# lis는 페이지 정보"
   ]
  },
  {
   "cell_type": "code",
   "execution_count": 145,
   "metadata": {},
   "outputs": [
    {
     "data": {
      "text/plain": [
       "'광산소방서_광주-평동-119 안전센터'"
      ]
     },
     "execution_count": 145,
     "metadata": {},
     "output_type": "execute_result"
    }
   ],
   "source": [
    "#제목\n",
    "li = lis[0] # 1페이지정보\n",
    "name = li.select_one('.title').get_text().strip()\n",
    "name\n"
   ]
  },
  {
   "cell_type": "code",
   "execution_count": 160,
   "metadata": {},
   "outputs": [
    {
     "data": {
      "text/plain": [
       "'광주광역시 서구 화운로 197(화정동)'"
      ]
     },
     "execution_count": 160,
     "metadata": {},
     "output_type": "execute_result"
    }
   ],
   "source": [
    "addr = li.find('address').string.strip()\n",
    "addr"
   ]
  },
  {
   "cell_type": "code",
   "execution_count": 147,
   "metadata": {},
   "outputs": [
    {
     "data": {
      "text/plain": [
       "'전화공사중'"
      ]
     },
     "execution_count": 147,
     "metadata": {},
     "output_type": "execute_result"
    }
   ],
   "source": [
    "\n",
    "tel = li.select_one('.tel').get_text().strip()\n",
    "tel"
   ]
  },
  {
   "cell_type": "code",
   "execution_count": 148,
   "metadata": {},
   "outputs": [
    {
     "data": {
      "text/plain": [
       "[['광산소방서_광주-평동-119 안전센터', '광주광역시 광산구 월전동 1251', '전화공사중'],\n",
       " ['광산소방서_광주-첨단-119 안전센터', '광주광역시 광산구 임방울대로825번길 16(쌍암동)', '062-606-4883'],\n",
       " ['광산소방서_광주-신가-119 안전센터', '광주광역시 광산구 수등로 236(신가동)', '062-606-4863'],\n",
       " ['광산소방서_광주-비아-119 안전센터', '광주광역시 광산구 비아로12번길 10(비아동)', '062-606-4843'],\n",
       " ['광산소방서_광주-월곡-119 안전센터', '광주광역시 광산구 사암로 276(월곡동)', '062-606-4823'],\n",
       " ['광산소방서_광주-송정-119 안전센터', '광주광역시 광산구 상무대로 93-1(도산동)', '062-606-4803'],\n",
       " ['광산소방서_광주-하남-119 안전센터', '광주광역시 광산구 하남산단1번로 13(하남동)', '062-606-4903'],\n",
       " ['북부소방서_광주-동림-119 안전센터', '광주광역시 북구 북문대로 202(동림동)', '062-606-4783'],\n",
       " ['북부소방서_광주-두암-119 안전센터', '광주광역시 북구 삼정로 5(두암동)', '062-606-4763'],\n",
       " ['북부소방서_광주-일곡-119 안전센터', '광주광역시 북구 설죽로 529(일곡동)', '062-606-4743']]"
      ]
     },
     "execution_count": 148,
     "metadata": {},
     "output_type": "execute_result"
    }
   ],
   "source": [
    "# 첫페이지크롤링 \n",
    "lines = []\n",
    "for li in lis:\n",
    "    name = li.select_one('.title').get_text().strip()\n",
    "    addr = li.find('address').string.strip()\n",
    "    tel = li.select_one('.tel').get_text().strip()\n",
    "    lines.append([name,addr,tel])\n",
    "lines"
   ]
  },
  {
   "cell_type": "markdown",
   "metadata": {},
   "source": [
    "# 2페이지로이동"
   ]
  },
  {
   "cell_type": "code",
   "execution_count": 149,
   "metadata": {},
   "outputs": [],
   "source": [
    "# 페이지2 누르는 거에 찍고 카피 xpath\n",
    "# //*[@id=\"listForm\"]/div/section/ul/li[1]/div/div/ul/li[4]/a"
   ]
  },
  {
   "cell_type": "code",
   "execution_count": 150,
   "metadata": {},
   "outputs": [],
   "source": [
    "# 페이지2를 클릭\n",
    "driver.find_element(By.XPATH, '//*[@id=\"listForm\"]/div/section/ul/li[1]/div/div/ul/li[4]/a').click()"
   ]
  },
  {
   "cell_type": "code",
   "execution_count": 151,
   "metadata": {},
   "outputs": [
    {
     "data": {
      "text/plain": [
       "10"
      ]
     },
     "execution_count": 151,
     "metadata": {},
     "output_type": "execute_result"
    }
   ],
   "source": [
    " \n",
    "soup = BeautifulSoup(driver.page_source, 'html.parser')\n",
    "lis = soup.select('.stations-list > li')\n",
    "len(lis)"
   ]
  },
  {
   "cell_type": "markdown",
   "metadata": {},
   "source": [
    "# 다음페이지로이동 "
   ]
  },
  {
   "cell_type": "code",
   "execution_count": 152,
   "metadata": {},
   "outputs": [],
   "source": [
    "# 다음페이지(3페이지) 이동 성공\n",
    "driver.find_element(By.CSS_SELECTOR, '.next_page').click()"
   ]
  },
  {
   "cell_type": "markdown",
   "metadata": {},
   "source": [
    "# 전체"
   ]
  },
  {
   "cell_type": "code",
   "execution_count": 153,
   "metadata": {},
   "outputs": [
    {
     "data": {
      "text/plain": [
       "'29건'"
      ]
     },
     "execution_count": 153,
     "metadata": {},
     "output_type": "execute_result"
    }
   ],
   "source": [
    "#검색결과건수획득 35건\n",
    "soup.select('.stations-local-after > p > strong ')[1].get_text() #p랑스트롱은 .클래스의 하위태그\n",
    "# 스트롱태그 중 두번째니까 1인덱스로 잡아준다\n",
    "건수 = soup.select('.stations-local-after > p > strong ')[1].get_text()\n",
    "건수"
   ]
  },
  {
   "cell_type": "code",
   "execution_count": 154,
   "metadata": {},
   "outputs": [
    {
     "data": {
      "text/plain": [
       "29"
      ]
     },
     "execution_count": 154,
     "metadata": {},
     "output_type": "execute_result"
    }
   ],
   "source": [
    "# 건이랑 ''를 지우기\n",
    "count = int(건수.replace('건','').strip())\n",
    "count"
   ]
  },
  {
   "cell_type": "code",
   "execution_count": 155,
   "metadata": {},
   "outputs": [
    {
     "data": {
      "text/plain": [
       "3"
      ]
     },
     "execution_count": 155,
     "metadata": {},
     "output_type": "execute_result"
    }
   ],
   "source": [
    "import math\n",
    "count = math.ceil(count/10)  #ceil실 올림\n",
    "count"
   ]
  },
  {
   "cell_type": "code",
   "execution_count": 156,
   "metadata": {},
   "outputs": [],
   "source": [
    "driver.get(url)\n",
    "time.sleep(1)\n",
    "driver.find_element(By.ID, 'searchKeyword').send_keys('광주광역시')\n",
    "driver.find_element(By.ID, 'fsSearchBtn').click()"
   ]
  },
  {
   "cell_type": "code",
   "execution_count": 157,
   "metadata": {},
   "outputs": [
    {
     "data": {
      "text/plain": [
       "29"
      ]
     },
     "execution_count": 157,
     "metadata": {},
     "output_type": "execute_result"
    }
   ],
   "source": [
    "lines=[]\n",
    "for i in range(count):\n",
    "    if i >= 1 and i %2==0 : \n",
    "        driver.find_element(By.CSS_SELECTOR, '.next_page').click() # 짝수니까 넥스트페이즈로\n",
    "        time.sleep(2) #이동 후 약간의 시간이 필요하다\n",
    "    if i >= 1 and i %2==1 : \n",
    "        driver.find_element(By.XPATH, '//*[@id=\"listForm\"]/div/section/ul/li[1]/div/div/ul/li[4]/a').click()\n",
    "        #이건 홀수니까 두번쨰 페이지로 이동\n",
    "        time.sleep(2) #이동 후 약간의 시간이 필요하다\n",
    "         \n",
    "         \n",
    "    soup = BeautifulSoup(driver.page_source, 'html.parser') \n",
    "    lis = soup.select('.stations-list > li')\n",
    "    for li in lis:\n",
    "        name = li.select_one('.title').get_text().strip()\n",
    "        addr = li.find('address').string.strip()\n",
    "        tel = li.select_one('.tel').get_text().strip()\n",
    "        lines.append([name,addr,tel])\n",
    "len(lines)"
   ]
  },
  {
   "cell_type": "code",
   "execution_count": 158,
   "metadata": {},
   "outputs": [],
   "source": [
    "driver.close() #창닫기"
   ]
  },
  {
   "cell_type": "code",
   "execution_count": 159,
   "metadata": {},
   "outputs": [
    {
     "data": {
      "text/html": [
       "<div>\n",
       "<style scoped>\n",
       "    .dataframe tbody tr th:only-of-type {\n",
       "        vertical-align: middle;\n",
       "    }\n",
       "\n",
       "    .dataframe tbody tr th {\n",
       "        vertical-align: top;\n",
       "    }\n",
       "\n",
       "    .dataframe thead th {\n",
       "        text-align: right;\n",
       "    }\n",
       "</style>\n",
       "<table border=\"1\" class=\"dataframe\">\n",
       "  <thead>\n",
       "    <tr style=\"text-align: right;\">\n",
       "      <th></th>\n",
       "      <th>관서명</th>\n",
       "      <th>주소</th>\n",
       "      <th>전화번호</th>\n",
       "    </tr>\n",
       "  </thead>\n",
       "  <tbody>\n",
       "    <tr>\n",
       "      <th>24</th>\n",
       "      <td>광산소방서</td>\n",
       "      <td>광주광역시 광산구 하남산단1번로 13(하남동)</td>\n",
       "      <td>062-613-8813</td>\n",
       "    </tr>\n",
       "    <tr>\n",
       "      <th>25</th>\n",
       "      <td>남부소방서</td>\n",
       "      <td>광주광역시 남구 송암로58번길 13(송하동)</td>\n",
       "      <td>062-613-8613</td>\n",
       "    </tr>\n",
       "    <tr>\n",
       "      <th>26</th>\n",
       "      <td>동부소방서</td>\n",
       "      <td>광주광역시 동구 제봉로 210(대인동)</td>\n",
       "      <td>062-613-8413</td>\n",
       "    </tr>\n",
       "    <tr>\n",
       "      <th>27</th>\n",
       "      <td>북부소방서</td>\n",
       "      <td>광주광역시 북구 서하로 290(오치동)</td>\n",
       "      <td>062-613-8713</td>\n",
       "    </tr>\n",
       "    <tr>\n",
       "      <th>28</th>\n",
       "      <td>서부소방서</td>\n",
       "      <td>광주광역시 서구 화운로 197(화정동)</td>\n",
       "      <td>062-613-8513</td>\n",
       "    </tr>\n",
       "  </tbody>\n",
       "</table>\n",
       "</div>"
      ],
      "text/plain": [
       "      관서명                         주소          전화번호\n",
       "24  광산소방서  광주광역시 광산구 하남산단1번로 13(하남동)  062-613-8813\n",
       "25  남부소방서   광주광역시 남구 송암로58번길 13(송하동)  062-613-8613\n",
       "26  동부소방서      광주광역시 동구 제봉로 210(대인동)  062-613-8413\n",
       "27  북부소방서      광주광역시 북구 서하로 290(오치동)  062-613-8713\n",
       "28  서부소방서      광주광역시 서구 화운로 197(화정동)  062-613-8513"
      ]
     },
     "execution_count": 159,
     "metadata": {},
     "output_type": "execute_result"
    }
   ],
   "source": [
    "df=pd.DataFrame(lines,columns=['관서명', '주소','전화번호'])\n",
    "df.tail()"
   ]
  },
  {
   "cell_type": "code",
   "execution_count": null,
   "metadata": {},
   "outputs": [],
   "source": []
  },
  {
   "cell_type": "code",
   "execution_count": null,
   "metadata": {},
   "outputs": [],
   "source": []
  },
  {
   "cell_type": "code",
   "execution_count": null,
   "metadata": {},
   "outputs": [],
   "source": []
  },
  {
   "cell_type": "code",
   "execution_count": null,
   "metadata": {},
   "outputs": [],
   "source": []
  },
  {
   "cell_type": "code",
   "execution_count": null,
   "metadata": {},
   "outputs": [],
   "source": []
  },
  {
   "cell_type": "code",
   "execution_count": null,
   "metadata": {},
   "outputs": [],
   "source": []
  },
  {
   "cell_type": "code",
   "execution_count": null,
   "metadata": {},
   "outputs": [],
   "source": []
  },
  {
   "cell_type": "code",
   "execution_count": null,
   "metadata": {},
   "outputs": [],
   "source": []
  }
 ],
 "metadata": {
  "kernelspec": {
   "display_name": "Python 3.9.10 64-bit",
   "language": "python",
   "name": "python3"
  },
  "language_info": {
   "codemirror_mode": {
    "name": "ipython",
    "version": 3
   },
   "file_extension": ".py",
   "mimetype": "text/x-python",
   "name": "python",
   "nbconvert_exporter": "python",
   "pygments_lexer": "ipython3",
   "version": "3.9.10"
  },
  "orig_nbformat": 4,
  "vscode": {
   "interpreter": {
    "hash": "4cf17b6cdca527b377e37d2f18a79e51dbf431fd79433c7bd1f2ac327c97211a"
   }
  }
 },
 "nbformat": 4,
 "nbformat_minor": 2
}
